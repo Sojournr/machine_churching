{
 "cells": [
  {
   "cell_type": "code",
   "execution_count": 6,
   "metadata": {},
   "outputs": [],
   "source": [
    "from get_page import simple_get\n",
    "from bs4 import BeautifulSoup"
   ]
  },
  {
   "cell_type": "code",
   "execution_count": 15,
   "metadata": {},
   "outputs": [],
   "source": [
    "def isInt(s):\n",
    "    try: \n",
    "        int(s)\n",
    "        return True\n",
    "    except ValueError:\n",
    "        return False"
   ]
  },
  {
   "cell_type": "code",
   "execution_count": 39,
   "metadata": {},
   "outputs": [
    {
     "data": {
      "text/plain": [
       "60"
      ]
     },
     "execution_count": 39,
     "metadata": {},
     "output_type": "execute_result"
    }
   ],
   "source": [
    "for year in range(1990, 2005):\n",
    "    count = 0\n",
    "    url = 'http://w2.vatican.va/content/john-paul-ii/en/homilies/' + str(year) + '.index.html'\n",
    "    page = simple_get(url)\n",
    "    html = BeautifulSoup(page, 'html.parser')\n",
    "    nav = html.find(\"nav\", {\"class\": \"navigation-pages\"})\n",
    "    max_page = 0\n",
    "    for a in nav.select('a'): \n",
    "        if isInt(a.text):\n",
    "            if int(a.text) > max_page:\n",
    "                max_page = int(a.text)\n",
    "    for i in range(max_page+1):\n",
    "        url = 'http://w2.vatican.va/content/john-paul-ii/en/homilies/' + str(year)+ '.' + str(i) +'.index.html'\n",
    "        page = simple_get('http://w2.vatican.va/content/john-paul-ii/en/homilies/1999.index.html')\n",
    "        html = BeautifulSoup(page, 'html.parser')\n",
    "        for a in html.select('a'):\n",
    "            if a.text == 'English':\n",
    "                count+=1\n",
    "                #print('http://w2.vatican.va' + a['href'])\n",
    "count"
   ]
  },
  {
   "cell_type": "code",
   "execution_count": null,
   "metadata": {},
   "outputs": [],
   "source": []
  }
 ],
 "metadata": {
  "kernelspec": {
   "display_name": "Python 3",
   "language": "python",
   "name": "python3"
  },
  "language_info": {
   "codemirror_mode": {
    "name": "ipython",
    "version": 3
   },
   "file_extension": ".py",
   "mimetype": "text/x-python",
   "name": "python",
   "nbconvert_exporter": "python",
   "pygments_lexer": "ipython3",
   "version": "3.7.0"
  }
 },
 "nbformat": 4,
 "nbformat_minor": 2
}
